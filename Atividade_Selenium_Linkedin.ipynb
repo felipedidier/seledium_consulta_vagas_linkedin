{
 "cells": [
  {
   "cell_type": "markdown",
   "id": "f9a4a13d",
   "metadata": {},
   "source": [
    "# Atividade Selenium\n",
    "\n",
    "Selenium é um conjunto de ferramentas de código aberto multiplataforma, usado para testar aplicações web pelo browser de forma automatizada. Ele executa testes de funcionalidades da aplicação web e testes de compatibilidade entre browser e plataformas diferentes. O Selenium suporta diversas linguagens de programação, como por exemplo C#, Java e Python, e vários navegadores web como o Chrome e o Firefox.\n",
    "\n",
    "Aqui iremos aplicar o uso do Python."
   ]
  },
  {
   "cell_type": "code",
   "execution_count": 1,
   "id": "e3c859d3",
   "metadata": {},
   "outputs": [
    {
     "name": "stdout",
     "output_type": "stream",
     "text": [
      "Requirement already satisfied: selenium in c:\\programdata\\anaconda3\\lib\\site-packages (3.141.0)\n",
      "Requirement already satisfied: urllib3 in c:\\programdata\\anaconda3\\lib\\site-packages (from selenium) (1.26.4)\n"
     ]
    }
   ],
   "source": [
    "## Instalação Selenium\n",
    "!pip install selenium"
   ]
  },
  {
   "cell_type": "code",
   "execution_count": 2,
   "id": "bcfbe4b2",
   "metadata": {},
   "outputs": [],
   "source": [
    "## import libs\n",
    "import time\n",
    "from selenium import webdriver\n",
    "from selenium.webdriver.chrome.options import Options\n",
    "import pandas as pd"
   ]
  },
  {
   "cell_type": "code",
   "execution_count": 3,
   "id": "6dd68a4c",
   "metadata": {},
   "outputs": [],
   "source": [
    "## Definição de Janela Desktop\n",
    "chrome_options = Options()\n",
    "chrome_options.add_argument(\"--incognito\")\n",
    "chrome_options.add_argument(\"--window-size=1920x1080\")"
   ]
  },
  {
   "cell_type": "code",
   "execution_count": 54,
   "id": "b84ca8be",
   "metadata": {},
   "outputs": [
    {
     "name": "stderr",
     "output_type": "stream",
     "text": [
      "<ipython-input-54-1b7304469e66>:4: DeprecationWarning: use options instead of chrome_options\n",
      "  driver = webdriver.Chrome(chrome_options=chrome_options)\n"
     ]
    }
   ],
   "source": [
    "## Necessário realizar download do webdriver em: \n",
    "# https://www.selenium.dev/pt-br/documentation/getting_started/installing_browser_drivers/\n",
    "\n",
    "driver = webdriver.Chrome(chrome_options=chrome_options)"
   ]
  },
  {
   "cell_type": "code",
   "execution_count": 55,
   "id": "dd43141c",
   "metadata": {},
   "outputs": [],
   "source": [
    "url = \"https://br.linkedin.com/jobs/ci%C3%AAncia-de-dados-vagas?position=1&pageNum=0\"\n",
    "driver.get(url)\n",
    "time.sleep(2)"
   ]
  },
  {
   "cell_type": "code",
   "execution_count": 56,
   "id": "294bc601",
   "metadata": {},
   "outputs": [],
   "source": [
    "## Scroll down para carregar mais oportunidades de vagas\n",
    "for i in range(4):    \n",
    "    driver.execute_script(\"window.scrollTo(0,document.body.scrollHeight)\")\n",
    "    time.sleep(2)"
   ]
  },
  {
   "cell_type": "markdown",
   "id": "cd98083d",
   "metadata": {},
   "source": [
    "## Tipos de Ações\n",
    "\n",
    "Referencia:\n",
    "https://www.selenium.dev/selenium/docs/api/java/org/openqa/selenium/interactions/Actions.html\n",
    "\n",
    "Principais ações:\n",
    " - **click**  - Envia ação de click ao elemento.\n",
    " - **send_keys** - Envia texto ao elemento de input\n",
    " - **double_click** - Envia duplo click ao elemento."
   ]
  },
  {
   "cell_type": "markdown",
   "id": "57a33947",
   "metadata": {},
   "source": [
    "## Pegando todos os preços de uma Busca"
   ]
  },
  {
   "cell_type": "code",
   "execution_count": 57,
   "id": "c9db78cd",
   "metadata": {},
   "outputs": [],
   "source": [
    "results = driver.find_element_by_xpath('//*[@id=\"main-content\"]/section[2]')"
   ]
  },
  {
   "cell_type": "code",
   "execution_count": 58,
   "id": "3d7ae8b4",
   "metadata": {},
   "outputs": [],
   "source": [
    "## O Retorno desta função é uma lista de elementos com esta classe do Titulo do Produto.\n",
    "title_results = results.find_elements_by_css_selector('.base-search-card__title')"
   ]
  },
  {
   "cell_type": "code",
   "execution_count": 59,
   "id": "30c3af45",
   "metadata": {},
   "outputs": [],
   "source": [
    "## Podemos iterar sobre a lista para pegar um elemento especifico.\n",
    "titulo_da_vaga_list = [el.text for el in title_results]"
   ]
  },
  {
   "cell_type": "code",
   "execution_count": 60,
   "id": "959e2a6b",
   "metadata": {},
   "outputs": [],
   "source": [
    "## O Retorno desta função é uma lista de elementos com esta classe do Preço do Produto.\n",
    "local_results = results.find_elements_by_css_selector('.job-search-card__location')"
   ]
  },
  {
   "cell_type": "code",
   "execution_count": 61,
   "id": "16ac555f",
   "metadata": {},
   "outputs": [],
   "source": [
    "local_da_vaga_list = [el.text for el in local_results]"
   ]
  },
  {
   "cell_type": "code",
   "execution_count": 68,
   "id": "1b62cad2",
   "metadata": {},
   "outputs": [],
   "source": [
    "## O Retorno desta função é uma lista de elementos com esta classe do Preço do Produto.\n",
    "empresa_results = results.find_elements_by_css_selector('.base-card .hidden-nested-link')"
   ]
  },
  {
   "cell_type": "code",
   "execution_count": 69,
   "id": "78c2afb7",
   "metadata": {},
   "outputs": [],
   "source": [
    "empresa_da_vaga_list = [el.text for el in empresa_results]"
   ]
  },
  {
   "cell_type": "code",
   "execution_count": 66,
   "id": "e7c3163d",
   "metadata": {},
   "outputs": [],
   "source": [
    "## O Retorno desta função é uma lista de elementos com esta classe do Preço do Produto.\n",
    "data_results = results.find_elements_by_css_selector('.job-search-card__listdate--new, .job-search-card__listdate')"
   ]
  },
  {
   "cell_type": "code",
   "execution_count": 67,
   "id": "943eb4dd",
   "metadata": {},
   "outputs": [],
   "source": [
    "data_da_vaga_list = [el.text for el in empresa_results]"
   ]
  },
  {
   "cell_type": "code",
   "execution_count": 71,
   "id": "3b1afb9c",
   "metadata": {
    "scrolled": false
   },
   "outputs": [],
   "source": [
    "df = pd.DataFrame({'vaga':titulo_da_vaga_list, 'local':local_da_vaga_list, 'empresa':empresa_da_vaga_list, 'data':data_da_vaga_list})"
   ]
  },
  {
   "cell_type": "code",
   "execution_count": 73,
   "id": "e841ef2f",
   "metadata": {
    "scrolled": true
   },
   "outputs": [
    {
     "data": {
      "text/html": [
       "<div>\n",
       "<style scoped>\n",
       "    .dataframe tbody tr th:only-of-type {\n",
       "        vertical-align: middle;\n",
       "    }\n",
       "\n",
       "    .dataframe tbody tr th {\n",
       "        vertical-align: top;\n",
       "    }\n",
       "\n",
       "    .dataframe thead th {\n",
       "        text-align: right;\n",
       "    }\n",
       "</style>\n",
       "<table border=\"1\" class=\"dataframe\">\n",
       "  <thead>\n",
       "    <tr style=\"text-align: right;\">\n",
       "      <th></th>\n",
       "      <th>vaga</th>\n",
       "      <th>local</th>\n",
       "      <th>empresa</th>\n",
       "      <th>data</th>\n",
       "    </tr>\n",
       "  </thead>\n",
       "  <tbody>\n",
       "    <tr>\n",
       "      <th>0</th>\n",
       "      <td>Ciência de dados</td>\n",
       "      <td>Brasil</td>\n",
       "      <td>WeClever</td>\n",
       "      <td>Há 3 dias</td>\n",
       "    </tr>\n",
       "    <tr>\n",
       "      <th>1</th>\n",
       "      <td>Ciência de Dados | Vaga exclusiva para pessoas...</td>\n",
       "      <td>São Paulo, SP</td>\n",
       "      <td>Nubank</td>\n",
       "      <td>Há 6 dias</td>\n",
       "    </tr>\n",
       "    <tr>\n",
       "      <th>2</th>\n",
       "      <td>Gerente de ciência de dados</td>\n",
       "      <td>Bauru, SP</td>\n",
       "      <td>Paschoalotto Recuperacao de Créditos</td>\n",
       "      <td>Há 13 horas</td>\n",
       "    </tr>\n",
       "    <tr>\n",
       "      <th>3</th>\n",
       "      <td>Especialista em Ciência de Dados I (Demanda)</td>\n",
       "      <td>Brasil</td>\n",
       "      <td>Grupo Boticário</td>\n",
       "      <td>Há 17 horas</td>\n",
       "    </tr>\n",
       "    <tr>\n",
       "      <th>4</th>\n",
       "      <td>Cientista de dados</td>\n",
       "      <td>São Paulo, SP</td>\n",
       "      <td>TOTVS</td>\n",
       "      <td>Há 3 horas</td>\n",
       "    </tr>\n",
       "    <tr>\n",
       "      <th>...</th>\n",
       "      <td>...</td>\n",
       "      <td>...</td>\n",
       "      <td>...</td>\n",
       "      <td>...</td>\n",
       "    </tr>\n",
       "    <tr>\n",
       "      <th>120</th>\n",
       "      <td>CIENTISTA DE DADOS</td>\n",
       "      <td>São Paulo, SP</td>\n",
       "      <td>Global TI</td>\n",
       "      <td>Há 5 dias</td>\n",
       "    </tr>\n",
       "    <tr>\n",
       "      <th>121</th>\n",
       "      <td>Programador</td>\n",
       "      <td>Fortaleza, CE</td>\n",
       "      <td>Sistemas MER</td>\n",
       "      <td>Há 13 horas</td>\n",
       "    </tr>\n",
       "    <tr>\n",
       "      <th>122</th>\n",
       "      <td>Data Analyst JR 398</td>\n",
       "      <td>São Paulo, SP</td>\n",
       "      <td>Grace Consulting - Tecnologia e Pessoas</td>\n",
       "      <td>Há 1 mês</td>\n",
       "    </tr>\n",
       "    <tr>\n",
       "      <th>123</th>\n",
       "      <td>Cientista de Dados (OLX / Zap+)</td>\n",
       "      <td>São Paulo, SP</td>\n",
       "      <td>OLX Brasil</td>\n",
       "      <td>Há 1 semana</td>\n",
       "    </tr>\n",
       "    <tr>\n",
       "      <th>124</th>\n",
       "      <td>Analista de Dados Pleno (Remoto)</td>\n",
       "      <td>São Paulo, SP</td>\n",
       "      <td>Distrito</td>\n",
       "      <td>Há 1 mês</td>\n",
       "    </tr>\n",
       "  </tbody>\n",
       "</table>\n",
       "<p>125 rows × 4 columns</p>\n",
       "</div>"
      ],
      "text/plain": [
       "                                                  vaga          local  \\\n",
       "0                                     Ciência de dados         Brasil   \n",
       "1    Ciência de Dados | Vaga exclusiva para pessoas...  São Paulo, SP   \n",
       "2                          Gerente de ciência de dados      Bauru, SP   \n",
       "3         Especialista em Ciência de Dados I (Demanda)         Brasil   \n",
       "4                                   Cientista de dados  São Paulo, SP   \n",
       "..                                                 ...            ...   \n",
       "120                                 CIENTISTA DE DADOS  São Paulo, SP   \n",
       "121                                        Programador  Fortaleza, CE   \n",
       "122                                Data Analyst JR 398  São Paulo, SP   \n",
       "123                    Cientista de Dados (OLX / Zap+)  São Paulo, SP   \n",
       "124                   Analista de Dados Pleno (Remoto)  São Paulo, SP   \n",
       "\n",
       "                                     empresa         data  \n",
       "0                                   WeClever    Há 3 dias  \n",
       "1                                     Nubank    Há 6 dias  \n",
       "2       Paschoalotto Recuperacao de Créditos  Há 13 horas  \n",
       "3                            Grupo Boticário  Há 17 horas  \n",
       "4                                      TOTVS   Há 3 horas  \n",
       "..                                       ...          ...  \n",
       "120                                Global TI    Há 5 dias  \n",
       "121                             Sistemas MER  Há 13 horas  \n",
       "122  Grace Consulting - Tecnologia e Pessoas     Há 1 mês  \n",
       "123                               OLX Brasil  Há 1 semana  \n",
       "124                                 Distrito     Há 1 mês  \n",
       "\n",
       "[125 rows x 4 columns]"
      ]
     },
     "execution_count": 73,
     "metadata": {},
     "output_type": "execute_result"
    }
   ],
   "source": [
    "df"
   ]
  },
  {
   "cell_type": "markdown",
   "id": "c535cd9e",
   "metadata": {},
   "source": [
    "## Exercicios:\n",
    "\n",
    "Praticar conceitos realizando Scrapping de Vagas Linkedin, o seletor de elemento fica a seu critério.\n",
    "\n",
    "link a ser utilizado: https://br.linkedin.com/jobs/ci%C3%AAncia-de-dados-vagas?position=1&pageNum=0\n"
   ]
  }
 ],
 "metadata": {
  "kernelspec": {
   "display_name": "Python 3",
   "language": "python",
   "name": "python3"
  },
  "language_info": {
   "codemirror_mode": {
    "name": "ipython",
    "version": 3
   },
   "file_extension": ".py",
   "mimetype": "text/x-python",
   "name": "python",
   "nbconvert_exporter": "python",
   "pygments_lexer": "ipython3",
   "version": "3.8.8"
  }
 },
 "nbformat": 4,
 "nbformat_minor": 5
}
